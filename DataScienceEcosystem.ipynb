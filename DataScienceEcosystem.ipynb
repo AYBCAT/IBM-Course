{
 "cells": [
  {
   "cell_type": "markdown",
   "id": "7785cb0e-af34-4866-b477-1fa5e55d16bc",
   "metadata": {},
   "source": [
    "# Data Science Tools and Ecosystem"
   ]
  },
  {
   "cell_type": "markdown",
   "id": "b4ddea42-f48b-465e-a763-db1f5e00b0a2",
   "metadata": {},
   "source": [
    "### Introduction \n",
    "In this notebook, Data Science Tools and Ecosystem are summarized.\n"
   ]
  },
  {
   "cell_type": "markdown",
   "id": "aa1bda1a-f47e-47b3-aede-70976ba46c85",
   "metadata": {},
   "source": [
    "**Objectives** : \n",
    "+ languages that data scientist use\n",
    "+ libraries that data scientist use\n",
    "+ Tools that data scientist use\n",
    "+ Converting minutes to hours "
   ]
  },
  {
   "cell_type": "markdown",
   "id": "5c9d8f61-81bc-4a91-9589-ce75591a952b",
   "metadata": {},
   "source": [
    "Some of the popular languages that Data Scientists use are:\n",
    "1. Python\n",
    "2. R\n",
    "3. Java\n",
    "4. Scala\n",
    "\n"
   ]
  },
  {
   "cell_type": "markdown",
   "id": "08e5d4e9-9b1d-482a-b39a-275ba64db6d6",
   "metadata": {},
   "source": [
    "Some of the commonly used libraries used by Data Scientists include:\n",
    "1. matplotlib\n",
    "2. seaborn\n",
    "3. sickitlearn\n"
   ]
  },
  {
   "cell_type": "markdown",
   "id": "c8eb917d-d256-412b-ad11-237653ea2bf1",
   "metadata": {},
   "source": [
    "|Data science tools|\n",
    "|----------|\n",
    "|Hadoop|\n",
    "|IBM studio|\n",
    "|anaconda|"
   ]
  },
  {
   "cell_type": "markdown",
   "id": "b9f790c4-4850-4db1-94e9-21cd0fbd02a6",
   "metadata": {},
   "source": [
    "### Below are a few examples of evaluating arithmetic expressions in Python.\n"
   ]
  },
  {
   "cell_type": "code",
   "execution_count": 1,
   "id": "a3cb3227-18b6-4723-827c-268c22a0a092",
   "metadata": {},
   "outputs": [
    {
     "data": {
      "text/plain": [
       "2"
      ]
     },
     "execution_count": 1,
     "metadata": {},
     "output_type": "execute_result"
    }
   ],
   "source": [
    "1+1"
   ]
  },
  {
   "cell_type": "code",
   "execution_count": 3,
   "id": "f3ef6583-e204-473c-89e4-b8ccbbfe2316",
   "metadata": {},
   "outputs": [
    {
     "data": {
      "text/plain": [
       "17"
      ]
     },
     "execution_count": 3,
     "metadata": {},
     "output_type": "execute_result"
    }
   ],
   "source": [
    "#This a simple arithmetic expression to mutiply then add integers.\n",
    "3*4+5\n"
   ]
  },
  {
   "cell_type": "code",
   "execution_count": 4,
   "id": "d64fbf57-ab62-4579-a6b6-fffdcf081e7c",
   "metadata": {},
   "outputs": [
    {
     "data": {
      "text/plain": [
       "3.3333333333333335"
      ]
     },
     "execution_count": 4,
     "metadata": {},
     "output_type": "execute_result"
    }
   ],
   "source": [
    "#This will convert 200 minutes to hours\n",
    "200/60"
   ]
  },
  {
   "cell_type": "markdown",
   "id": "39e4186c-ed59-4f92-842f-d4ae3eb5b9a8",
   "metadata": {},
   "source": [
    "## Author :\n",
    "HALOUI AYOUB"
   ]
  },
  {
   "cell_type": "code",
   "execution_count": null,
   "id": "b5b62f29-9b0b-4bd2-9337-1e5ae93bd30b",
   "metadata": {},
   "outputs": [],
   "source": []
  }
 ],
 "metadata": {
  "kernelspec": {
   "display_name": "Python 3 (ipykernel)",
   "language": "python",
   "name": "python3"
  },
  "language_info": {
   "codemirror_mode": {
    "name": "ipython",
    "version": 3
   },
   "file_extension": ".py",
   "mimetype": "text/x-python",
   "name": "python",
   "nbconvert_exporter": "python",
   "pygments_lexer": "ipython3",
   "version": "3.8.8"
  }
 },
 "nbformat": 4,
 "nbformat_minor": 5
}
